{
 "cells": [
  {
   "cell_type": "code",
   "execution_count": 1,
   "id": "da4c6570",
   "metadata": {},
   "outputs": [
    {
     "name": "stdout",
     "output_type": "stream",
     "text": [
      "Welcome to the Ubuntu Image Fetcher\n",
      "A tool for mindfully collecting images from the web\n",
      "\n",
      "\n",
      "Connection strengthened. Community enriched.\n"
     ]
    }
   ],
   "source": [
    "import requests\n",
    "import os\n",
    "from urllib.parse import urlparse\n",
    "import hashlib\n",
    "\n",
    "def get_filename_from_url(url):\n",
    "    \"\"\"Extract a filename from the URL or generate one.\"\"\"\n",
    "    parsed_url = urlparse(url)\n",
    "    filename = os.path.basename(parsed_url.path)\n",
    "    if not filename:  # If URL ends with / or no file\n",
    "        filename = \"downloaded_image.jpg\"\n",
    "    return filename\n",
    "\n",
    "def generate_unique_filename(content, original_name):\n",
    "    \"\"\"Prevent duplicates by hashing the content.\"\"\"\n",
    "    file_hash = hashlib.md5(content).hexdigest()[:8]  # short hash\n",
    "    name, ext = os.path.splitext(original_name)\n",
    "    return f\"{name}_{file_hash}{ext}\" if ext else f\"{name}_{file_hash}.jpg\"\n",
    "\n",
    "def fetch_image(url):\n",
    "    \"\"\"Fetch and save image with error handling.\"\"\"\n",
    "    try:\n",
    "        # Make directory\n",
    "        os.makedirs(\"Fetched_Images\", exist_ok=True)\n",
    "\n",
    "        # Fetch image\n",
    "        response = requests.get(url, timeout=10)\n",
    "        response.raise_for_status()\n",
    "\n",
    "        # Check content-type header\n",
    "        content_type = response.headers.get(\"Content-Type\", \"\")\n",
    "        if not content_type.startswith(\"image/\"):\n",
    "            print(f\"✗ Skipped (not an image): {url}\")\n",
    "            return\n",
    "\n",
    "        # Extract filename or generate one\n",
    "        filename = get_filename_from_url(url)\n",
    "        filename = generate_unique_filename(response.content, filename)\n",
    "\n",
    "        filepath = os.path.join(\"Fetched_Images\", filename)\n",
    "\n",
    "        # Save image in binary mode\n",
    "        with open(filepath, \"wb\") as f:\n",
    "            f.write(response.content)\n",
    "\n",
    "        print(f\"✓ Successfully fetched: {filename}\")\n",
    "        print(f\"✓ Image saved to {filepath}\")\n",
    "\n",
    "    except requests.exceptions.RequestException as e:\n",
    "        print(f\"✗ Connection error for {url}: {e}\")\n",
    "    except Exception as e:\n",
    "        print(f\"✗ An error occurred for {url}: {e}\")\n",
    "\n",
    "def main():\n",
    "    print(\"Welcome to the Ubuntu Image Fetcher\")\n",
    "    print(\"A tool for mindfully collecting images from the web\\n\")\n",
    "\n",
    "    # Accept multiple URLs separated by spaces\n",
    "    urls = input(\"Please enter one or more image URLs (separated by spaces): \").split()\n",
    "\n",
    "    for url in urls:\n",
    "        fetch_image(url)\n",
    "\n",
    "    print(\"\\nConnection strengthened. Community enriched.\")\n",
    "\n",
    "if __name__ == \"__main__\":\n",
    "    main()\n"
   ]
  }
 ],
 "metadata": {
  "kernelspec": {
   "display_name": "base",
   "language": "python",
   "name": "python3"
  },
  "language_info": {
   "codemirror_mode": {
    "name": "ipython",
    "version": 3
   },
   "file_extension": ".py",
   "mimetype": "text/x-python",
   "name": "python",
   "nbconvert_exporter": "python",
   "pygments_lexer": "ipython3",
   "version": "3.13.5"
  }
 },
 "nbformat": 4,
 "nbformat_minor": 5
}
